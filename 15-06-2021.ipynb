{
 "cells": [
  {
   "cell_type": "code",
   "execution_count": 2,
   "id": "59822b53",
   "metadata": {},
   "outputs": [
    {
     "ename": "SyntaxError",
     "evalue": "invalid syntax (<ipython-input-2-ebb8fd3c3c15>, line 4)",
     "output_type": "error",
     "traceback": [
      "\u001b[1;36m  File \u001b[1;32m\"<ipython-input-2-ebb8fd3c3c15>\"\u001b[1;36m, line \u001b[1;32m4\u001b[0m\n\u001b[1;33m    <img src=\"fox.jpg\" alt=\"fox\">\u001b[0m\n\u001b[1;37m    ^\u001b[0m\n\u001b[1;31mSyntaxError\u001b[0m\u001b[1;31m:\u001b[0m invalid syntax\n"
     ]
    }
   ],
   "source": [
    "# heading1\n",
    "## heading2 \n",
    "### heading3\n",
    "<img src=\"fox.jpg\" alt=\"fox\">"
   ]
  },
  {
   "cell_type": "markdown",
   "id": "e5be634c",
   "metadata": {},
   "source": [
    "* list\n",
    "* sublist"
   ]
  },
  {
   "cell_type": "markdown",
   "id": "3bbc526d",
   "metadata": {},
   "source": [
    "<h1>"
   ]
  },
  {
   "cell_type": "markdown",
   "id": "09add67b",
   "metadata": {},
   "source": [
    "# variables\n",
    "\n",
    "* a variable must start with letter or underscore\n",
    "* a variable cannot start with a number\n",
    "* a variable name can only contain alpha numeric characters and underscore (a-z)or(A-z)or(0-9)or underscore\n",
    "* variable is case sensative"
   ]
  },
  {
   "cell_type": "markdown",
   "id": "b9f1b0e4",
   "metadata": {},
   "source": [
    "# Datatypes:\n",
    "* interger\n",
    "* float\n",
    "* string"
   ]
  },
  {
   "cell_type": "code",
   "execution_count": 3,
   "id": "e19192de",
   "metadata": {},
   "outputs": [
    {
     "name": "stdout",
     "output_type": "stream",
     "text": [
      "30.5\n",
      "<class 'float'>\n"
     ]
    }
   ],
   "source": [
    "a=30.5\n",
    "print(a)\n",
    "print(type(a))"
   ]
  },
  {
   "cell_type": "code",
   "execution_count": 4,
   "id": "be214215",
   "metadata": {},
   "outputs": [
    {
     "name": "stdout",
     "output_type": "stream",
     "text": [
      "srujana\n"
     ]
    }
   ],
   "source": [
    "s=\"srujana\"\n",
    "print(s)"
   ]
  },
  {
   "cell_type": "code",
   "execution_count": 5,
   "id": "026f5a00",
   "metadata": {},
   "outputs": [
    {
     "name": "stdout",
     "output_type": "stream",
     "text": [
      "10.0\n"
     ]
    }
   ],
   "source": [
    "a=10\n",
    "print(float(a))"
   ]
  },
  {
   "cell_type": "code",
   "execution_count": 6,
   "id": "f03dd4e4",
   "metadata": {},
   "outputs": [
    {
     "data": {
      "text/plain": [
       "20"
      ]
     },
     "execution_count": 6,
     "metadata": {},
     "output_type": "execute_result"
    }
   ],
   "source": [
    "d=20\n",
    "d"
   ]
  },
  {
   "cell_type": "code",
   "execution_count": 7,
   "id": "26958ada",
   "metadata": {},
   "outputs": [
    {
     "name": "stdout",
     "output_type": "stream",
     "text": [
      "20\n"
     ]
    }
   ],
   "source": [
    "a=d\n",
    "print(a)"
   ]
  },
  {
   "cell_type": "code",
   "execution_count": 8,
   "id": "e07b959b",
   "metadata": {},
   "outputs": [
    {
     "name": "stdout",
     "output_type": "stream",
     "text": [
      "10\n",
      "20.4\n",
      "srujana\n",
      "hai\n"
     ]
    }
   ],
   "source": [
    "a,b,c,d=10,20.4,\"srujana\",\"hai\"\n",
    "print(a)\n",
    "print(b)\n",
    "print(c)\n",
    "print(d)"
   ]
  },
  {
   "cell_type": "code",
   "execution_count": 11,
   "id": "85222955",
   "metadata": {},
   "outputs": [
    {
     "name": "stdout",
     "output_type": "stream",
     "text": [
      "45\n",
      "45.5\n",
      "<class 'str'>\n"
     ]
    }
   ],
   "source": [
    "s=45.5\n",
    "print(int(s))\n",
    "print(str(s))\n",
    "print(type(str(s)))"
   ]
  },
  {
   "cell_type": "code",
   "execution_count": 13,
   "id": "0a93fc2c",
   "metadata": {},
   "outputs": [
    {
     "name": "stdout",
     "output_type": "stream",
     "text": [
      "enter a value3\n",
      "3\n",
      "<class 'str'>\n"
     ]
    }
   ],
   "source": [
    "n=input(\"enter a value\")\n",
    "print(n)\n",
    "print(type(n))"
   ]
  },
  {
   "cell_type": "code",
   "execution_count": 15,
   "id": "0558d665",
   "metadata": {},
   "outputs": [
    {
     "name": "stdout",
     "output_type": "stream",
     "text": [
      "10\n",
      "20\n",
      "addition of a and b is: 30\n",
      "addition of 10 and 20 is:30\n"
     ]
    }
   ],
   "source": [
    "a=int(input())\n",
    "b=int(input())\n",
    "print(\"addition of a and b is:\",a+b)\n",
    "print(\"addition of {} and {} is:{}\".format(a,b,a+b))"
   ]
  },
  {
   "cell_type": "code",
   "execution_count": 20,
   "id": "06c3cbfc",
   "metadata": {},
   "outputs": [
    {
     "name": "stdout",
     "output_type": "stream",
     "text": [
      "srujana\n",
      "1234\n",
      "username correct\n",
      "password is correct\n"
     ]
    }
   ],
   "source": [
    "username=input()\n",
    "password=int(input())\n",
    "if username==\"srujana\":\n",
    "    print(\"username correct\")\n",
    "if password==1234:\n",
    "    print(\"password is correct\")\n",
    "else:\n",
    "    print(\"invalid\")"
   ]
  },
  {
   "cell_type": "code",
   "execution_count": null,
   "id": "3a2442d8",
   "metadata": {},
   "outputs": [],
   "source": []
  },
  {
   "cell_type": "code",
   "execution_count": null,
   "id": "f906c525",
   "metadata": {},
   "outputs": [],
   "source": []
  }
 ],
 "metadata": {
  "kernelspec": {
   "display_name": "Python 3",
   "language": "python",
   "name": "python3"
  },
  "language_info": {
   "codemirror_mode": {
    "name": "ipython",
    "version": 3
   },
   "file_extension": ".py",
   "mimetype": "text/x-python",
   "name": "python",
   "nbconvert_exporter": "python",
   "pygments_lexer": "ipython3",
   "version": "3.8.8"
  }
 },
 "nbformat": 4,
 "nbformat_minor": 5
}
